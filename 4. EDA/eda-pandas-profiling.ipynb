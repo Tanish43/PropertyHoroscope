{
 "cells": [
  {
   "cell_type": "code",
   "execution_count": 8,
   "id": "e572091c-1e88-44bb-b533-adcf7c66d661",
   "metadata": {},
   "outputs": [
    {
     "name": "stdout",
     "output_type": "stream",
     "text": [
      "Collecting numba==0.56.4\n",
      "  Downloading numba-0.56.4.tar.gz (2.4 MB)\n",
      "     ---------------------------------------- 0.0/2.4 MB ? eta -:--:--\n",
      "     ---------------------------------------- 0.0/2.4 MB ? eta -:--:--\n",
      "     ---------------------------------------- 0.0/2.4 MB 222.6 kB/s eta 0:00:11\n",
      "      --------------------------------------- 0.1/2.4 MB 375.8 kB/s eta 0:00:07\n",
      "     --- ------------------------------------ 0.2/2.4 MB 1.3 MB/s eta 0:00:02\n",
      "     ------- -------------------------------- 0.5/2.4 MB 2.1 MB/s eta 0:00:01\n",
      "     ------------ --------------------------- 0.7/2.4 MB 2.7 MB/s eta 0:00:01\n",
      "     ------------- -------------------------- 0.8/2.4 MB 2.6 MB/s eta 0:00:01\n",
      "     -------------- ------------------------- 0.9/2.4 MB 2.5 MB/s eta 0:00:01\n",
      "     ----------------- ---------------------- 1.1/2.4 MB 2.6 MB/s eta 0:00:01\n",
      "     -------------------- ------------------- 1.2/2.4 MB 2.7 MB/s eta 0:00:01\n",
      "     ----------------------- ---------------- 1.4/2.4 MB 2.8 MB/s eta 0:00:01\n",
      "     ----------------------- ---------------- 1.4/2.4 MB 2.8 MB/s eta 0:00:01\n",
      "     ------------------------ --------------- 1.5/2.4 MB 2.5 MB/s eta 0:00:01\n",
      "     ----------------------------- ---------- 1.8/2.4 MB 2.7 MB/s eta 0:00:01\n",
      "     -------------------------------- ------- 2.0/2.4 MB 2.8 MB/s eta 0:00:01\n",
      "     ------------------------------------ --- 2.2/2.4 MB 3.0 MB/s eta 0:00:01\n",
      "     -------------------------------------- - 2.3/2.4 MB 3.0 MB/s eta 0:00:01\n",
      "     ---------------------------------------- 2.4/2.4 MB 2.9 MB/s eta 0:00:00\n",
      "  Preparing metadata (setup.py): started\n",
      "  Preparing metadata (setup.py): finished with status 'error'\n",
      "Note: you may need to restart the kernel to use updated packages.\n"
     ]
    },
    {
     "name": "stderr",
     "output_type": "stream",
     "text": [
      "  error: subprocess-exited-with-error\n",
      "  \n",
      "  python setup.py egg_info did not run successfully.\n",
      "  exit code: 1\n",
      "  \n",
      "  [8 lines of output]\n",
      "  Traceback (most recent call last):\n",
      "    File \"<string>\", line 2, in <module>\n",
      "    File \"<pip-setuptools-caller>\", line 34, in <module>\n",
      "    File \"C:\\Users\\DELL\\AppData\\Local\\Temp\\pip-install-ag7udj98\\numba_fffb135377a64f729d10787302ff9641\\setup.py\", line 51, in <module>\n",
      "      _guard_py_ver()\n",
      "    File \"C:\\Users\\DELL\\AppData\\Local\\Temp\\pip-install-ag7udj98\\numba_fffb135377a64f729d10787302ff9641\\setup.py\", line 48, in _guard_py_ver\n",
      "      raise RuntimeError(msg.format(cur_py, min_py, max_py))\n",
      "  RuntimeError: Cannot install on Python version 3.11.7; only versions >=3.7,<3.11 are supported.\n",
      "  [end of output]\n",
      "  \n",
      "  note: This error originates from a subprocess, and is likely not a problem with pip.\n",
      "error: metadata-generation-failed\n",
      "\n",
      "Encountered error while generating package metadata.\n",
      "\n",
      "See above for output.\n",
      "\n",
      "note: This is an issue with the package mentioned above, not pip.\n",
      "hint: See above for details.\n"
     ]
    }
   ],
   "source": [
    "pip install numba==0.56.4"
   ]
  },
  {
   "cell_type": "code",
   "execution_count": 2,
   "id": "5ee6434e-7b1b-4764-8c95-b734df4acb59",
   "metadata": {},
   "outputs": [
    {
     "name": "stdout",
     "output_type": "stream",
     "text": [
      "Requirement already satisfied: pandas-profiling in c:\\users\\dell\\anaconda3\\lib\\site-packages (3.2.0)\n",
      "Requirement already satisfied: joblib~=1.1.0 in c:\\users\\dell\\anaconda3\\lib\\site-packages (from pandas-profiling) (1.1.1)\n",
      "Requirement already satisfied: scipy>=1.4.1 in c:\\users\\dell\\anaconda3\\lib\\site-packages (from pandas-profiling) (1.11.4)\n",
      "Requirement already satisfied: pandas!=1.0.0,!=1.0.1,!=1.0.2,!=1.1.0,>=0.25.3 in c:\\users\\dell\\appdata\\roaming\\python\\python311\\site-packages (from pandas-profiling) (2.2.2)\n",
      "Requirement already satisfied: matplotlib>=3.2.0 in c:\\users\\dell\\anaconda3\\lib\\site-packages (from pandas-profiling) (3.8.0)\n",
      "Requirement already satisfied: pydantic>=1.8.1 in c:\\users\\dell\\anaconda3\\lib\\site-packages (from pandas-profiling) (2.9.2)\n",
      "Requirement already satisfied: PyYAML>=5.0.0 in c:\\users\\dell\\anaconda3\\lib\\site-packages (from pandas-profiling) (6.0.1)\n",
      "Requirement already satisfied: jinja2>=2.11.1 in c:\\users\\dell\\appdata\\roaming\\python\\python311\\site-packages (from pandas-profiling) (3.1.4)\n",
      "Requirement already satisfied: markupsafe~=2.1.1 in c:\\users\\dell\\appdata\\roaming\\python\\python311\\site-packages (from pandas-profiling) (2.1.5)\n",
      "Collecting visions==0.7.4 (from visions[type_image_path]==0.7.4->pandas-profiling)\n",
      "  Using cached visions-0.7.4-py3-none-any.whl.metadata (5.9 kB)\n",
      "Requirement already satisfied: numpy>=1.16.0 in c:\\users\\dell\\anaconda3\\lib\\site-packages (from pandas-profiling) (1.26.4)\n",
      "Requirement already satisfied: htmlmin>=0.1.12 in c:\\users\\dell\\anaconda3\\lib\\site-packages (from pandas-profiling) (0.1.12)\n",
      "Requirement already satisfied: missingno>=0.4.2 in c:\\users\\dell\\anaconda3\\lib\\site-packages (from pandas-profiling) (0.5.2)\n",
      "Requirement already satisfied: phik>=0.11.1 in c:\\users\\dell\\anaconda3\\lib\\site-packages (from pandas-profiling) (0.12.4)\n",
      "Requirement already satisfied: tangled-up-in-unicode==0.2.0 in c:\\users\\dell\\anaconda3\\lib\\site-packages (from pandas-profiling) (0.2.0)\n",
      "Requirement already satisfied: requests>=2.24.0 in c:\\users\\dell\\appdata\\roaming\\python\\python311\\site-packages (from pandas-profiling) (2.32.3)\n",
      "Requirement already satisfied: tqdm>=4.48.2 in c:\\users\\dell\\anaconda3\\lib\\site-packages (from pandas-profiling) (4.65.0)\n",
      "Requirement already satisfied: seaborn>=0.10.1 in c:\\users\\dell\\anaconda3\\lib\\site-packages (from pandas-profiling) (0.12.2)\n",
      "Requirement already satisfied: multimethod>=1.4 in c:\\users\\dell\\anaconda3\\lib\\site-packages (from pandas-profiling) (1.12)\n",
      "Requirement already satisfied: attrs>=19.3.0 in c:\\users\\dell\\appdata\\roaming\\python\\python311\\site-packages (from visions==0.7.4->visions[type_image_path]==0.7.4->pandas-profiling) (23.2.0)\n",
      "Requirement already satisfied: networkx>=2.4 in c:\\users\\dell\\anaconda3\\lib\\site-packages (from visions==0.7.4->visions[type_image_path]==0.7.4->pandas-profiling) (3.1)\n",
      "Requirement already satisfied: imagehash in c:\\users\\dell\\anaconda3\\lib\\site-packages (from visions[type_image_path]==0.7.4->pandas-profiling) (4.3.1)\n",
      "Requirement already satisfied: Pillow in c:\\users\\dell\\appdata\\roaming\\python\\python311\\site-packages (from visions[type_image_path]==0.7.4->pandas-profiling) (10.3.0)\n",
      "Requirement already satisfied: contourpy>=1.0.1 in c:\\users\\dell\\anaconda3\\lib\\site-packages (from matplotlib>=3.2.0->pandas-profiling) (1.2.0)\n",
      "Requirement already satisfied: cycler>=0.10 in c:\\users\\dell\\anaconda3\\lib\\site-packages (from matplotlib>=3.2.0->pandas-profiling) (0.11.0)\n",
      "Requirement already satisfied: fonttools>=4.22.0 in c:\\users\\dell\\anaconda3\\lib\\site-packages (from matplotlib>=3.2.0->pandas-profiling) (4.25.0)\n",
      "Requirement already satisfied: kiwisolver>=1.0.1 in c:\\users\\dell\\anaconda3\\lib\\site-packages (from matplotlib>=3.2.0->pandas-profiling) (1.4.4)\n",
      "Requirement already satisfied: packaging>=20.0 in c:\\users\\dell\\appdata\\roaming\\python\\python311\\site-packages (from matplotlib>=3.2.0->pandas-profiling) (24.1)\n",
      "Requirement already satisfied: pyparsing>=2.3.1 in c:\\users\\dell\\anaconda3\\lib\\site-packages (from matplotlib>=3.2.0->pandas-profiling) (3.0.9)\n",
      "Requirement already satisfied: python-dateutil>=2.7 in c:\\users\\dell\\appdata\\roaming\\python\\python311\\site-packages (from matplotlib>=3.2.0->pandas-profiling) (2.9.0.post0)\n",
      "Requirement already satisfied: pytz>=2020.1 in c:\\users\\dell\\appdata\\roaming\\python\\python311\\site-packages (from pandas!=1.0.0,!=1.0.1,!=1.0.2,!=1.1.0,>=0.25.3->pandas-profiling) (2024.1)\n",
      "Requirement already satisfied: tzdata>=2022.7 in c:\\users\\dell\\appdata\\roaming\\python\\python311\\site-packages (from pandas!=1.0.0,!=1.0.1,!=1.0.2,!=1.1.0,>=0.25.3->pandas-profiling) (2024.1)\n",
      "Requirement already satisfied: annotated-types>=0.6.0 in c:\\users\\dell\\anaconda3\\lib\\site-packages (from pydantic>=1.8.1->pandas-profiling) (0.7.0)\n",
      "Requirement already satisfied: pydantic-core==2.23.4 in c:\\users\\dell\\anaconda3\\lib\\site-packages (from pydantic>=1.8.1->pandas-profiling) (2.23.4)\n",
      "Requirement already satisfied: typing-extensions>=4.6.1 in c:\\users\\dell\\appdata\\roaming\\python\\python311\\site-packages (from pydantic>=1.8.1->pandas-profiling) (4.12.2)\n",
      "Requirement already satisfied: charset-normalizer<4,>=2 in c:\\users\\dell\\appdata\\roaming\\python\\python311\\site-packages (from requests>=2.24.0->pandas-profiling) (3.3.2)\n",
      "Requirement already satisfied: idna<4,>=2.5 in c:\\users\\dell\\appdata\\roaming\\python\\python311\\site-packages (from requests>=2.24.0->pandas-profiling) (3.7)\n",
      "Requirement already satisfied: urllib3<3,>=1.21.1 in c:\\users\\dell\\appdata\\roaming\\python\\python311\\site-packages (from requests>=2.24.0->pandas-profiling) (2.2.2)\n",
      "Requirement already satisfied: certifi>=2017.4.17 in c:\\users\\dell\\appdata\\roaming\\python\\python311\\site-packages (from requests>=2.24.0->pandas-profiling) (2024.6.2)\n",
      "Requirement already satisfied: colorama in c:\\users\\dell\\appdata\\roaming\\python\\python311\\site-packages (from tqdm>=4.48.2->pandas-profiling) (0.4.6)\n",
      "Requirement already satisfied: six>=1.5 in c:\\users\\dell\\appdata\\roaming\\python\\python311\\site-packages (from python-dateutil>=2.7->matplotlib>=3.2.0->pandas-profiling) (1.16.0)\n",
      "Requirement already satisfied: PyWavelets in c:\\users\\dell\\anaconda3\\lib\\site-packages (from imagehash->visions[type_image_path]==0.7.4->pandas-profiling) (1.5.0)\n",
      "Using cached visions-0.7.4-py3-none-any.whl (102 kB)\n",
      "Installing collected packages: visions\n",
      "  Attempting uninstall: visions\n",
      "    Found existing installation: visions 0.7.6\n",
      "    Uninstalling visions-0.7.6:\n",
      "      Successfully uninstalled visions-0.7.6\n",
      "Successfully installed visions-0.7.4\n",
      "Note: you may need to restart the kernel to use updated packages.\n"
     ]
    },
    {
     "name": "stderr",
     "output_type": "stream",
     "text": [
      "ERROR: pip's dependency resolver does not currently take into account all the packages that are installed. This behaviour is the source of the following dependency conflicts.\n",
      "ydata-profiling 4.10.0 requires visions[type_image_path]<0.7.7,>=0.7.5, but you have visions 0.7.4 which is incompatible.\n"
     ]
    }
   ],
   "source": [
    "pip install --upgrade pandas-profiling"
   ]
  },
  {
   "cell_type": "code",
   "execution_count": 4,
   "id": "6e030f5c",
   "metadata": {},
   "outputs": [
    {
     "data": {
      "application/vnd.jupyter.widget-view+json": {
       "model_id": "28824715aacc4147a6a481ed0d2001a3",
       "version_major": 2,
       "version_minor": 0
      },
      "text/plain": [
       "Summarize dataset:   0%|          | 0/5 [00:00<?, ?it/s]"
      ]
     },
     "metadata": {},
     "output_type": "display_data"
    },
    {
     "name": "stderr",
     "output_type": "stream",
     "text": [
      "C:\\Users\\DELL\\anaconda3\\Lib\\site-packages\\seaborn\\matrix.py:260: FutureWarning: Format strings passed to MaskedConstant are ignored, but in future may error or produce different behavior\n",
      "  annotation = (\"{:\" + self.fmt + \"}\").format(val)\n",
      "C:\\Users\\DELL\\anaconda3\\Lib\\site-packages\\ydata_profiling\\model\\missing.py:78: UserWarning: There was an attempt to generate the Heatmap missing values diagrams, but this failed.\n",
      "To hide this warning, disable the calculation\n",
      "(using `df.profile_report(missing_diagrams={\"Heatmap\": False}`)\n",
      "If this is problematic for your use case, please report this as an issue:\n",
      "https://github.com/ydataai/ydata-profiling/issues\n",
      "(include the error message: 'could not convert string to float: '--'')\n",
      "  warnings.warn(\n"
     ]
    },
    {
     "data": {
      "application/vnd.jupyter.widget-view+json": {
       "model_id": "27ab0514a3284dcda862ebec12a05f6e",
       "version_major": 2,
       "version_minor": 0
      },
      "text/plain": [
       "Generate report structure:   0%|          | 0/1 [00:00<?, ?it/s]"
      ]
     },
     "metadata": {},
     "output_type": "display_data"
    },
    {
     "data": {
      "application/vnd.jupyter.widget-view+json": {
       "model_id": "cbc01e874fec4e2c85f1c4a0df076140",
       "version_major": 2,
       "version_minor": 0
      },
      "text/plain": [
       "Render HTML:   0%|          | 0/1 [00:00<?, ?it/s]"
      ]
     },
     "metadata": {},
     "output_type": "display_data"
    },
    {
     "data": {
      "application/vnd.jupyter.widget-view+json": {
       "model_id": "9f415e86320c4a0c96a028148265ef33",
       "version_major": 2,
       "version_minor": 0
      },
      "text/plain": [
       "Export report to file:   0%|          | 0/1 [00:00<?, ?it/s]"
      ]
     },
     "metadata": {},
     "output_type": "display_data"
    }
   ],
   "source": [
    "import pandas as pd\n",
    "from pandas_profiling import ProfileReport\n",
    "\n",
    "# Load your dataset\n",
    "df = pd.read_csv('../3. Feature Engineering/gurgaon_properties_cleaned_v2.csv').drop_duplicates()\n",
    "\n",
    "# Create the ProfileReport object\n",
    "profile = ProfileReport(df, title='Pandas Profiling Report', explorative=True)\n",
    "\n",
    "# Generate the report\n",
    "profile.to_file(\"output_report.html\")\n"
   ]
  },
  {
   "cell_type": "code",
   "execution_count": 2,
   "id": "bd076212",
   "metadata": {},
   "outputs": [
    {
     "name": "stdout",
     "output_type": "stream",
     "text": [
      "Collecting pandas-profiling\n",
      "  Downloading pandas_profiling-3.2.0-py2.py3-none-any.whl.metadata (21 kB)\n",
      "Collecting joblib~=1.1.0 (from pandas-profiling)\n",
      "  Downloading joblib-1.1.1-py2.py3-none-any.whl.metadata (5.2 kB)\n",
      "Requirement already satisfied: scipy>=1.4.1 in c:\\users\\dell\\anaconda3\\lib\\site-packages (from pandas-profiling) (1.11.4)\n",
      "Requirement already satisfied: pandas!=1.0.0,!=1.0.1,!=1.0.2,!=1.1.0,>=0.25.3 in c:\\users\\dell\\appdata\\roaming\\python\\python311\\site-packages (from pandas-profiling) (2.2.2)\n",
      "Requirement already satisfied: matplotlib>=3.2.0 in c:\\users\\dell\\anaconda3\\lib\\site-packages (from pandas-profiling) (3.8.0)\n",
      "Requirement already satisfied: pydantic>=1.8.1 in c:\\users\\dell\\anaconda3\\lib\\site-packages (from pandas-profiling) (1.10.12)\n",
      "Requirement already satisfied: PyYAML>=5.0.0 in c:\\users\\dell\\anaconda3\\lib\\site-packages (from pandas-profiling) (6.0.1)\n",
      "Requirement already satisfied: jinja2>=2.11.1 in c:\\users\\dell\\appdata\\roaming\\python\\python311\\site-packages (from pandas-profiling) (3.1.4)\n",
      "Requirement already satisfied: markupsafe~=2.1.1 in c:\\users\\dell\\appdata\\roaming\\python\\python311\\site-packages (from pandas-profiling) (2.1.5)\n",
      "Collecting visions==0.7.4 (from visions[type_image_path]==0.7.4->pandas-profiling)\n",
      "  Downloading visions-0.7.4-py3-none-any.whl.metadata (5.9 kB)\n",
      "Requirement already satisfied: numpy>=1.16.0 in c:\\users\\dell\\anaconda3\\lib\\site-packages (from pandas-profiling) (1.26.4)\n",
      "Collecting htmlmin>=0.1.12 (from pandas-profiling)\n",
      "  Downloading htmlmin-0.1.12.tar.gz (19 kB)\n",
      "  Preparing metadata (setup.py): started\n",
      "  Preparing metadata (setup.py): finished with status 'done'\n",
      "Collecting missingno>=0.4.2 (from pandas-profiling)\n",
      "  Downloading missingno-0.5.2-py3-none-any.whl.metadata (639 bytes)\n",
      "Collecting phik>=0.11.1 (from pandas-profiling)\n",
      "  Downloading phik-0.12.4-cp311-cp311-win_amd64.whl.metadata (5.6 kB)\n",
      "Collecting tangled-up-in-unicode==0.2.0 (from pandas-profiling)\n",
      "  Downloading tangled_up_in_unicode-0.2.0-py3-none-any.whl.metadata (4.8 kB)\n",
      "Requirement already satisfied: requests>=2.24.0 in c:\\users\\dell\\appdata\\roaming\\python\\python311\\site-packages (from pandas-profiling) (2.32.3)\n",
      "Requirement already satisfied: tqdm>=4.48.2 in c:\\users\\dell\\anaconda3\\lib\\site-packages (from pandas-profiling) (4.65.0)\n",
      "Requirement already satisfied: seaborn>=0.10.1 in c:\\users\\dell\\anaconda3\\lib\\site-packages (from pandas-profiling) (0.12.2)\n",
      "Collecting multimethod>=1.4 (from pandas-profiling)\n",
      "  Downloading multimethod-1.12-py3-none-any.whl.metadata (9.6 kB)\n",
      "Requirement already satisfied: attrs>=19.3.0 in c:\\users\\dell\\appdata\\roaming\\python\\python311\\site-packages (from visions==0.7.4->visions[type_image_path]==0.7.4->pandas-profiling) (23.2.0)\n",
      "Requirement already satisfied: networkx>=2.4 in c:\\users\\dell\\anaconda3\\lib\\site-packages (from visions==0.7.4->visions[type_image_path]==0.7.4->pandas-profiling) (3.1)\n",
      "Collecting imagehash (from visions[type_image_path]==0.7.4->pandas-profiling)\n",
      "  Downloading ImageHash-4.3.1-py2.py3-none-any.whl.metadata (8.0 kB)\n",
      "Requirement already satisfied: Pillow in c:\\users\\dell\\appdata\\roaming\\python\\python311\\site-packages (from visions[type_image_path]==0.7.4->pandas-profiling) (10.3.0)\n",
      "Requirement already satisfied: contourpy>=1.0.1 in c:\\users\\dell\\anaconda3\\lib\\site-packages (from matplotlib>=3.2.0->pandas-profiling) (1.2.0)\n",
      "Requirement already satisfied: cycler>=0.10 in c:\\users\\dell\\anaconda3\\lib\\site-packages (from matplotlib>=3.2.0->pandas-profiling) (0.11.0)\n",
      "Requirement already satisfied: fonttools>=4.22.0 in c:\\users\\dell\\anaconda3\\lib\\site-packages (from matplotlib>=3.2.0->pandas-profiling) (4.25.0)\n",
      "Requirement already satisfied: kiwisolver>=1.0.1 in c:\\users\\dell\\anaconda3\\lib\\site-packages (from matplotlib>=3.2.0->pandas-profiling) (1.4.4)\n",
      "Requirement already satisfied: packaging>=20.0 in c:\\users\\dell\\appdata\\roaming\\python\\python311\\site-packages (from matplotlib>=3.2.0->pandas-profiling) (24.1)\n",
      "Requirement already satisfied: pyparsing>=2.3.1 in c:\\users\\dell\\anaconda3\\lib\\site-packages (from matplotlib>=3.2.0->pandas-profiling) (3.0.9)\n",
      "Requirement already satisfied: python-dateutil>=2.7 in c:\\users\\dell\\appdata\\roaming\\python\\python311\\site-packages (from matplotlib>=3.2.0->pandas-profiling) (2.9.0.post0)\n",
      "Requirement already satisfied: pytz>=2020.1 in c:\\users\\dell\\appdata\\roaming\\python\\python311\\site-packages (from pandas!=1.0.0,!=1.0.1,!=1.0.2,!=1.1.0,>=0.25.3->pandas-profiling) (2024.1)\n",
      "Requirement already satisfied: tzdata>=2022.7 in c:\\users\\dell\\appdata\\roaming\\python\\python311\\site-packages (from pandas!=1.0.0,!=1.0.1,!=1.0.2,!=1.1.0,>=0.25.3->pandas-profiling) (2024.1)\n",
      "Requirement already satisfied: typing-extensions>=4.2.0 in c:\\users\\dell\\appdata\\roaming\\python\\python311\\site-packages (from pydantic>=1.8.1->pandas-profiling) (4.12.2)\n",
      "Requirement already satisfied: charset-normalizer<4,>=2 in c:\\users\\dell\\appdata\\roaming\\python\\python311\\site-packages (from requests>=2.24.0->pandas-profiling) (3.3.2)\n",
      "Requirement already satisfied: idna<4,>=2.5 in c:\\users\\dell\\appdata\\roaming\\python\\python311\\site-packages (from requests>=2.24.0->pandas-profiling) (3.7)\n",
      "Requirement already satisfied: urllib3<3,>=1.21.1 in c:\\users\\dell\\appdata\\roaming\\python\\python311\\site-packages (from requests>=2.24.0->pandas-profiling) (2.2.2)\n",
      "Requirement already satisfied: certifi>=2017.4.17 in c:\\users\\dell\\appdata\\roaming\\python\\python311\\site-packages (from requests>=2.24.0->pandas-profiling) (2024.6.2)\n",
      "Requirement already satisfied: colorama in c:\\users\\dell\\appdata\\roaming\\python\\python311\\site-packages (from tqdm>=4.48.2->pandas-profiling) (0.4.6)\n",
      "Requirement already satisfied: six>=1.5 in c:\\users\\dell\\appdata\\roaming\\python\\python311\\site-packages (from python-dateutil>=2.7->matplotlib>=3.2.0->pandas-profiling) (1.16.0)\n",
      "Requirement already satisfied: PyWavelets in c:\\users\\dell\\anaconda3\\lib\\site-packages (from imagehash->visions[type_image_path]==0.7.4->pandas-profiling) (1.5.0)\n",
      "Downloading pandas_profiling-3.2.0-py2.py3-none-any.whl (262 kB)\n",
      "   ---------------------------------------- 0.0/262.6 kB ? eta -:--:--\n",
      "   ------ -------------------------------- 41.0/262.6 kB 960.0 kB/s eta 0:00:01\n",
      "   ------------------ --------------------- 122.9/262.6 kB 1.4 MB/s eta 0:00:01\n",
      "   ------------------ --------------------- 122.9/262.6 kB 1.4 MB/s eta 0:00:01\n",
      "   ------------------ --------------------- 122.9/262.6 kB 1.4 MB/s eta 0:00:01\n",
      "   ------------------ --------------------- 122.9/262.6 kB 1.4 MB/s eta 0:00:01\n",
      "   ------------------ --------------------- 122.9/262.6 kB 1.4 MB/s eta 0:00:01\n",
      "   ------------------ --------------------- 122.9/262.6 kB 1.4 MB/s eta 0:00:01\n",
      "   ------------------ --------------------- 122.9/262.6 kB 1.4 MB/s eta 0:00:01\n",
      "   ------------------ --------------------- 122.9/262.6 kB 1.4 MB/s eta 0:00:01\n",
      "   ----------------------- -------------- 163.8/262.6 kB 364.0 kB/s eta 0:00:01\n",
      "   ------------------------- ------------ 174.1/262.6 kB 327.7 kB/s eta 0:00:01\n",
      "   ------------------------- ------------ 174.1/262.6 kB 327.7 kB/s eta 0:00:01\n",
      "   ---------------------------- --------- 194.6/262.6 kB 318.9 kB/s eta 0:00:01\n",
      "   -------------------------------- ----- 225.3/262.6 kB 335.5 kB/s eta 0:00:01\n",
      "   -------------------------------------- 262.6/262.6 kB 366.8 kB/s eta 0:00:00\n",
      "Downloading tangled_up_in_unicode-0.2.0-py3-none-any.whl (4.7 MB)\n",
      "   ---------------------------------------- 0.0/4.7 MB ? eta -:--:--\n",
      "    --------------------------------------- 0.1/4.7 MB 2.0 MB/s eta 0:00:03\n",
      "   - -------------------------------------- 0.1/4.7 MB 2.1 MB/s eta 0:00:03\n",
      "   - -------------------------------------- 0.2/4.7 MB 1.8 MB/s eta 0:00:03\n",
      "   -- ------------------------------------- 0.3/4.7 MB 1.6 MB/s eta 0:00:03\n",
      "   --- ------------------------------------ 0.4/4.7 MB 1.7 MB/s eta 0:00:03\n",
      "   --- ------------------------------------ 0.4/4.7 MB 1.6 MB/s eta 0:00:03\n",
      "   ---- ----------------------------------- 0.5/4.7 MB 1.6 MB/s eta 0:00:03\n",
      "   ---- ----------------------------------- 0.6/4.7 MB 1.6 MB/s eta 0:00:03\n",
      "   ----- ---------------------------------- 0.7/4.7 MB 1.7 MB/s eta 0:00:03\n",
      "   ------ --------------------------------- 0.8/4.7 MB 1.7 MB/s eta 0:00:03\n",
      "   ------- -------------------------------- 0.9/4.7 MB 1.7 MB/s eta 0:00:03\n",
      "   ------- -------------------------------- 0.9/4.7 MB 1.7 MB/s eta 0:00:03\n",
      "   -------- ------------------------------- 1.0/4.7 MB 1.7 MB/s eta 0:00:03\n",
      "   --------- ------------------------------ 1.1/4.7 MB 1.7 MB/s eta 0:00:03\n",
      "   --------- ------------------------------ 1.1/4.7 MB 1.6 MB/s eta 0:00:03\n",
      "   ---------- ----------------------------- 1.2/4.7 MB 1.7 MB/s eta 0:00:03\n",
      "   ----------- ---------------------------- 1.3/4.7 MB 1.7 MB/s eta 0:00:02\n",
      "   ------------ --------------------------- 1.4/4.7 MB 1.7 MB/s eta 0:00:02\n",
      "   ------------ --------------------------- 1.5/4.7 MB 1.7 MB/s eta 0:00:02\n",
      "   ------------- -------------------------- 1.6/4.7 MB 1.8 MB/s eta 0:00:02\n",
      "   -------------- ------------------------- 1.8/4.7 MB 1.8 MB/s eta 0:00:02\n",
      "   --------------- ------------------------ 1.9/4.7 MB 1.8 MB/s eta 0:00:02\n",
      "   ---------------- ----------------------- 2.0/4.7 MB 1.9 MB/s eta 0:00:02\n",
      "   ------------------ --------------------- 2.1/4.7 MB 1.9 MB/s eta 0:00:02\n",
      "   ------------------ --------------------- 2.2/4.7 MB 1.9 MB/s eta 0:00:02\n",
      "   ------------------- -------------------- 2.3/4.7 MB 1.9 MB/s eta 0:00:02\n",
      "   ------------------- -------------------- 2.3/4.7 MB 1.9 MB/s eta 0:00:02\n",
      "   -------------------- ------------------- 2.4/4.7 MB 1.8 MB/s eta 0:00:02\n",
      "   --------------------- ------------------ 2.5/4.7 MB 1.9 MB/s eta 0:00:02\n",
      "   ---------------------- ----------------- 2.7/4.7 MB 1.9 MB/s eta 0:00:02\n",
      "   ----------------------- ---------------- 2.8/4.7 MB 1.9 MB/s eta 0:00:02\n",
      "   ----------------------- ---------------- 2.8/4.7 MB 1.9 MB/s eta 0:00:02\n",
      "   ----------------------- ---------------- 2.8/4.7 MB 1.8 MB/s eta 0:00:02\n",
      "   ------------------------ --------------- 2.9/4.7 MB 1.9 MB/s eta 0:00:02\n",
      "   ------------------------ --------------- 2.9/4.7 MB 1.8 MB/s eta 0:00:02\n",
      "   ------------------------- -------------- 3.0/4.7 MB 1.8 MB/s eta 0:00:01\n",
      "   ------------------------- -------------- 3.0/4.7 MB 1.8 MB/s eta 0:00:01\n",
      "   ------------------------- -------------- 3.0/4.7 MB 1.8 MB/s eta 0:00:01\n",
      "   ------------------------- -------------- 3.0/4.7 MB 1.8 MB/s eta 0:00:01\n",
      "   -------------------------- ------------- 3.1/4.7 MB 1.6 MB/s eta 0:00:02\n",
      "   -------------------------- ------------- 3.1/4.7 MB 1.6 MB/s eta 0:00:02\n",
      "   -------------------------- ------------- 3.1/4.7 MB 1.6 MB/s eta 0:00:02\n",
      "   -------------------------- ------------- 3.1/4.7 MB 1.6 MB/s eta 0:00:02\n",
      "   -------------------------- ------------- 3.1/4.7 MB 1.6 MB/s eta 0:00:02\n",
      "   -------------------------- ------------- 3.1/4.7 MB 1.6 MB/s eta 0:00:02\n",
      "   -------------------------- ------------- 3.1/4.7 MB 1.6 MB/s eta 0:00:02\n",
      "   -------------------------- ------------- 3.1/4.7 MB 1.6 MB/s eta 0:00:02\n",
      "   -------------------------- ------------- 3.1/4.7 MB 1.6 MB/s eta 0:00:02\n",
      "   -------------------------- ------------- 3.1/4.7 MB 1.6 MB/s eta 0:00:02\n",
      "   -------------------------- ------------- 3.1/4.7 MB 1.6 MB/s eta 0:00:02\n",
      "   -------------------------- ------------- 3.1/4.7 MB 1.6 MB/s eta 0:00:02\n",
      "   -------------------------- ------------- 3.1/4.7 MB 1.6 MB/s eta 0:00:02\n",
      "   -------------------------- ------------- 3.1/4.7 MB 1.3 MB/s eta 0:00:02\n",
      "   -------------------------- ------------- 3.2/4.7 MB 1.3 MB/s eta 0:00:02\n",
      "   -------------------------- ------------- 3.2/4.7 MB 1.3 MB/s eta 0:00:02\n",
      "   -------------------------- ------------- 3.2/4.7 MB 1.2 MB/s eta 0:00:02\n",
      "   -------------------------- ------------- 3.2/4.7 MB 1.2 MB/s eta 0:00:02\n",
      "   --------------------------- ------------ 3.2/4.7 MB 1.2 MB/s eta 0:00:02\n",
      "   --------------------------- ------------ 3.3/4.7 MB 1.2 MB/s eta 0:00:02\n",
      "   ---------------------------- ----------- 3.4/4.7 MB 1.2 MB/s eta 0:00:02\n",
      "   ----------------------------- ---------- 3.5/4.7 MB 1.2 MB/s eta 0:00:02\n",
      "   ------------------------------ --------- 3.6/4.7 MB 1.2 MB/s eta 0:00:01\n",
      "   ------------------------------ --------- 3.7/4.7 MB 1.2 MB/s eta 0:00:01\n",
      "   ------------------------------- -------- 3.7/4.7 MB 1.2 MB/s eta 0:00:01\n",
      "   -------------------------------- ------- 3.8/4.7 MB 1.2 MB/s eta 0:00:01\n",
      "   -------------------------------- ------- 3.9/4.7 MB 1.2 MB/s eta 0:00:01\n",
      "   --------------------------------- ------ 4.0/4.7 MB 1.3 MB/s eta 0:00:01\n",
      "   ---------------------------------- ----- 4.1/4.7 MB 1.3 MB/s eta 0:00:01\n",
      "   ----------------------------------- ---- 4.2/4.7 MB 1.3 MB/s eta 0:00:01\n",
      "   ------------------------------------ --- 4.3/4.7 MB 1.3 MB/s eta 0:00:01\n",
      "   ------------------------------------ --- 4.4/4.7 MB 1.3 MB/s eta 0:00:01\n",
      "   -------------------------------------- - 4.5/4.7 MB 1.3 MB/s eta 0:00:01\n",
      "   ---------------------------------------  4.6/4.7 MB 1.3 MB/s eta 0:00:01\n",
      "   ---------------------------------------  4.7/4.7 MB 1.4 MB/s eta 0:00:01\n",
      "   ---------------------------------------- 4.7/4.7 MB 1.3 MB/s eta 0:00:00\n",
      "Downloading visions-0.7.4-py3-none-any.whl (102 kB)\n",
      "   ---------------------------------------- 0.0/102.4 kB ? eta -:--:--\n",
      "   -------------------------------- ------- 81.9/102.4 kB 2.3 MB/s eta 0:00:01\n",
      "   ---------------------------------------- 102.4/102.4 kB 1.5 MB/s eta 0:00:00\n",
      "Downloading joblib-1.1.1-py2.py3-none-any.whl (309 kB)\n",
      "   ---------------------------------------- 0.0/309.8 kB ? eta -:--:--\n",
      "   --------------- ------------------------ 122.9/309.8 kB 3.6 MB/s eta 0:00:01\n",
      "   --------------------------------- ------ 256.0/309.8 kB 3.2 MB/s eta 0:00:01\n",
      "   ---------------------------------------- 309.8/309.8 kB 2.4 MB/s eta 0:00:00\n",
      "Downloading missingno-0.5.2-py3-none-any.whl (8.7 kB)\n",
      "Downloading multimethod-1.12-py3-none-any.whl (10 kB)\n",
      "Downloading phik-0.12.4-cp311-cp311-win_amd64.whl (667 kB)\n",
      "   ---------------------------------------- 0.0/667.1 kB ? eta -:--:--\n",
      "   ----- ---------------------------------- 92.2/667.1 kB 2.6 MB/s eta 0:00:01\n",
      "   ----------- ---------------------------- 194.6/667.1 kB 2.3 MB/s eta 0:00:01\n",
      "   ------------------- -------------------- 327.7/667.1 kB 2.5 MB/s eta 0:00:01\n",
      "   -------------------------- ------------- 440.3/667.1 kB 2.7 MB/s eta 0:00:01\n",
      "   ---------------------------------- ----- 583.7/667.1 kB 2.6 MB/s eta 0:00:01\n",
      "   ---------------------------------------  665.6/667.1 kB 2.6 MB/s eta 0:00:01\n",
      "   ---------------------------------------- 667.1/667.1 kB 2.3 MB/s eta 0:00:00\n",
      "Downloading ImageHash-4.3.1-py2.py3-none-any.whl (296 kB)\n",
      "   ---------------------------------------- 0.0/296.5 kB ? eta -:--:--\n",
      "   ---------------- ----------------------- 122.9/296.5 kB 2.4 MB/s eta 0:00:01\n",
      "   --------------------------- ------------ 204.8/296.5 kB 2.1 MB/s eta 0:00:01\n",
      "   -------------------------------------- - 286.7/296.5 kB 2.5 MB/s eta 0:00:01\n",
      "   ---------------------------------------- 296.5/296.5 kB 2.3 MB/s eta 0:00:00\n",
      "Building wheels for collected packages: htmlmin\n",
      "  Building wheel for htmlmin (setup.py): started\n",
      "  Building wheel for htmlmin (setup.py): finished with status 'done'\n",
      "  Created wheel for htmlmin: filename=htmlmin-0.1.12-py3-none-any.whl size=27091 sha256=620f139dcc2c6aca0af9c470dc3a2e07f6812708b47f67f3a085682c631cbfb4\n",
      "  Stored in directory: c:\\users\\dell\\appdata\\local\\pip\\cache\\wheels\\8d\\55\\1a\\19cd535375ed1ede0c996405ebffe34b196d78e2d9545723a2\n",
      "Successfully built htmlmin\n",
      "Installing collected packages: htmlmin, tangled-up-in-unicode, multimethod, joblib, imagehash, visions, phik, missingno, pandas-profiling\n",
      "  Attempting uninstall: joblib\n",
      "    Found existing installation: joblib 1.2.0\n",
      "    Uninstalling joblib-1.2.0:\n",
      "      Successfully uninstalled joblib-1.2.0\n",
      "Successfully installed htmlmin-0.1.12 imagehash-4.3.1 joblib-1.1.1 missingno-0.5.2 multimethod-1.12 pandas-profiling-3.2.0 phik-0.12.4 tangled-up-in-unicode-0.2.0 visions-0.7.4\n"
     ]
    }
   ],
   "source": [
    "!pip install pandas-profiling\n"
   ]
  },
  {
   "cell_type": "code",
   "execution_count": null,
   "id": "88bedb41",
   "metadata": {},
   "outputs": [],
   "source": []
  }
 ],
 "metadata": {
  "kernelspec": {
   "display_name": "Python 3 (ipykernel)",
   "language": "python",
   "name": "python3"
  },
  "language_info": {
   "codemirror_mode": {
    "name": "ipython",
    "version": 3
   },
   "file_extension": ".py",
   "mimetype": "text/x-python",
   "name": "python",
   "nbconvert_exporter": "python",
   "pygments_lexer": "ipython3",
   "version": "3.11.7"
  }
 },
 "nbformat": 4,
 "nbformat_minor": 5
}
